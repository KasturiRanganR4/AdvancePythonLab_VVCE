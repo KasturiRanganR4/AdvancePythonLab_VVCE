{
 "cells": [
  {
   "cell_type": "code",
   "execution_count": 2,
   "id": "fbfeaab4-cf9d-42af-a4c1-9478c06e1c61",
   "metadata": {
    "tags": []
   },
   "outputs": [
    {
     "name": "stdin",
     "output_type": "stream",
     "text": [
      "Enter a number for check odd or even:  89\n"
     ]
    },
    {
     "name": "stdout",
     "output_type": "stream",
     "text": [
      "89  is an odd\n"
     ]
    }
   ],
   "source": [
    "def find_Evenodd(num):\n",
    "    \n",
    "    if(num%2==0):\n",
    "        print(num,\" Is an even\")\n",
    "    else:\n",
    "        print(num,\" is an odd\")\n",
    "\n",
    "        \n",
    "num=int(input(\"Enter a number for check odd or even: \"))\n",
    "find_Evenodd(num);\n",
    "#function call"
   ]
  },
  {
   "cell_type": "code",
   "execution_count": null,
   "id": "8b439aac-2702-49f9-a07e-66ddce5795af",
   "metadata": {},
   "outputs": [],
   "source": []
  }
 ],
 "metadata": {
  "kernelspec": {
   "display_name": "Python 3 (ipykernel)",
   "language": "python",
   "name": "python3"
  },
  "language_info": {
   "codemirror_mode": {
    "name": "ipython",
    "version": 3
   },
   "file_extension": ".py",
   "mimetype": "text/x-python",
   "name": "python",
   "nbconvert_exporter": "python",
   "pygments_lexer": "ipython3",
   "version": "3.8.18"
  }
 },
 "nbformat": 4,
 "nbformat_minor": 5
}
