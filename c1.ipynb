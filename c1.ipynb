{
 "cells": [
  {
   "cell_type": "code",
   "execution_count": 6,
   "id": "51067afd-346a-4884-a33f-237d4ae4c8de",
   "metadata": {},
   "outputs": [],
   "source": [
    "class employer:\n",
    "    count=00\n",
    "    def __init__(self, name, place, department):\n",
    "        employer.count=employer.count+1\n",
    "        self.customerid = employer.count\n",
    "        self.e_name = name\n",
    "        self.e_place = place\n",
    "        self.e_department = department\n",
    "        \n",
    "    def getcostomerid(self):\n",
    "        return self.customerid\n",
    "    \n",
    "    def getcustomerdetails(self):\n",
    "        print(\"customer details\");\n",
    "        print(\"\\n customer ID:\",self.customerid,\"\\n Customer Name:\",self.e_name,\"\\n customer place:\",self.e_place,\"\\n customer department:\",self.e_department)\n",
    "        \n",
    "    @staticmethod\n",
    "    def totalcustomer():\n",
    "        return employer.count\n",
    "    \n",
    "\n",
    "    \n",
    "    \n",
    "    "
   ]
  },
  {
   "cell_type": "code",
   "execution_count": 7,
   "id": "6abf96cd-471a-4616-978f-5a2e19e6c4b6",
   "metadata": {
    "tags": []
   },
   "outputs": [
    {
     "name": "stdin",
     "output_type": "stream",
     "text": [
      "Enter the name of Employee: rns\n",
      "Enter the place of Employee: mysore\n",
      "Enter the department of Employee: ise\n"
     ]
    },
    {
     "name": "stdout",
     "output_type": "stream",
     "text": [
      "customer details\n",
      "\n",
      " customer ID: 1 \n",
      " Customer Name: rns \n",
      " customer place: mysore \n",
      " customer department: ise\n"
     ]
    }
   ],
   "source": [
    "name = input(\"Enter the name of Employee:\")\n",
    "place = input(\"Enter the place of Employee:\")\n",
    "department = input(\"Enter the department of Employee:\")\n",
    "c1 = employer(name, place, department)\n",
    "c1.getcustomerdetails()"
   ]
  },
  {
   "cell_type": "code",
   "execution_count": 8,
   "id": "b80ff69f-978b-44da-900e-47cafc5fccb1",
   "metadata": {
    "tags": []
   },
   "outputs": [
    {
     "name": "stdin",
     "output_type": "stream",
     "text": [
      "Enter the name of Employee: rkr\n",
      "Enter the place of Employee: bang\n",
      "Enter the department of Employee: phy\n"
     ]
    },
    {
     "name": "stdout",
     "output_type": "stream",
     "text": [
      "customer details\n",
      "\n",
      " customer ID: 2 \n",
      " Customer Name: rkr \n",
      " customer place: bang \n",
      " customer department: phy\n"
     ]
    }
   ],
   "source": [
    "name = input(\"Enter the name of Employee:\")\n",
    "place = input(\"Enter the place of Employee:\")\n",
    "department = input(\"Enter the department of Employee:\")\n",
    "c2 = employer(name, place, department)\n",
    "c2.getcustomerdetails()"
   ]
  },
  {
   "cell_type": "code",
   "execution_count": 9,
   "id": "8777463a-9308-4da7-9573-173d1afe92c6",
   "metadata": {
    "tags": []
   },
   "outputs": [
    {
     "name": "stdout",
     "output_type": "stream",
     "text": [
      "employee id : 2\n"
     ]
    }
   ],
   "source": [
    "#c3 = employer()\n",
    "print(\"employee id :\", c2.totalcustomer())\n"
   ]
  },
  {
   "cell_type": "code",
   "execution_count": 10,
   "id": "6f6e6ef0-7a21-4355-9a8f-59f2a822efde",
   "metadata": {
    "tags": []
   },
   "outputs": [
    {
     "name": "stdout",
     "output_type": "stream",
     "text": [
      "employee count:  2\n"
     ]
    }
   ],
   "source": [
    "print(\"employee count: \", employer.totalcustomer()) \n",
    "#for static functions instead of object.function call we can have classname.function"
   ]
  },
  {
   "cell_type": "code",
   "execution_count": null,
   "id": "9ad13ac8-9041-4a40-b065-9a7232392376",
   "metadata": {},
   "outputs": [],
   "source": []
  }
 ],
 "metadata": {
  "kernelspec": {
   "display_name": "Python 3 (ipykernel)",
   "language": "python",
   "name": "python3"
  },
  "language_info": {
   "codemirror_mode": {
    "name": "ipython",
    "version": 3
   },
   "file_extension": ".py",
   "mimetype": "text/x-python",
   "name": "python",
   "nbconvert_exporter": "python",
   "pygments_lexer": "ipython3",
   "version": "3.8.18"
  }
 },
 "nbformat": 4,
 "nbformat_minor": 5
}
