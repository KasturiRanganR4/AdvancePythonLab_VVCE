{
 "cells": [
  {
   "cell_type": "code",
   "execution_count": 5,
   "id": "bb9a504b-ee3c-4ce9-8e38-18d239d653fd",
   "metadata": {
    "tags": []
   },
   "outputs": [
    {
     "name": "stdout",
     "output_type": "stream",
     "text": [
      "Occurrence of all characters in sentence is :\n",
      " {'V': 2, 'A': 1, 'u': 2, 't': 1, 'n': 1, 'm': 1, ' ': 2, 'C': 1, 's': 2, 'E': 1, 'o': 3, 'i': 1}\n"
     ]
    }
   ],
   "source": [
    "# Python3 code to program to find occurrence\n",
    "# to each character in given string\n",
    " \n",
    "# initializing string \n",
    "inp_str = \"VVCE is Autonomous\"\n",
    " \n",
    "# using set() + count() to get count \n",
    "# of each element in string \n",
    "out = {x : inp_str.count(x) for x in set(inp_str )} \n",
    " \n",
    "# printing result \n",
    "print (\"Occurrence of all characters in sentence is :\\n \"+ str(out)) "
   ]
  },
  {
   "cell_type": "raw",
   "id": "88fe0fa9-80ad-4475-b102-430525f18864",
   "metadata": {},
   "source": [
    "or"
   ]
  },
  {
   "cell_type": "code",
   "execution_count": 4,
   "id": "058dcf1c-02cc-4398-8e59-c2db939909df",
   "metadata": {
    "tags": []
   },
   "outputs": [
    {
     "name": "stdout",
     "output_type": "stream",
     "text": [
      "Occurrence of all characters in sentence is :\n",
      " Counter({'o': 3, 'V': 2, ' ': 2, 's': 2, 'u': 2, 'C': 1, 'E': 1, 'i': 1, 'A': 1, 't': 1, 'n': 1, 'm': 1})\n"
     ]
    }
   ],
   "source": [
    "from collections import Counter \n",
    "   \n",
    "# initializing string  \n",
    "in_str = \"VVCE is Autonomous\"\n",
    "   \n",
    "# using collections.Counter() to get  \n",
    "# count of each element in string  \n",
    "oup = Counter(in_str) \n",
    "   \n",
    "# printing result  \n",
    "print (\"Occurrence of all characters in sentence is :\\n \"+ str(oup)) \n"
   ]
  },
  {
   "cell_type": "code",
   "execution_count": null,
   "id": "03a28945-44a2-496c-b8b4-6f92abe66b55",
   "metadata": {},
   "outputs": [],
   "source": []
  }
 ],
 "metadata": {
  "kernelspec": {
   "display_name": "Python 3 (ipykernel)",
   "language": "python",
   "name": "python3"
  },
  "language_info": {
   "codemirror_mode": {
    "name": "ipython",
    "version": 3
   },
   "file_extension": ".py",
   "mimetype": "text/x-python",
   "name": "python",
   "nbconvert_exporter": "python",
   "pygments_lexer": "ipython3",
   "version": "3.8.18"
  }
 },
 "nbformat": 4,
 "nbformat_minor": 5
}
