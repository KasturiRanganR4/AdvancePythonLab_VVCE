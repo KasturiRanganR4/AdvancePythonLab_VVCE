{
 "cells": [
  {
   "cell_type": "code",
   "execution_count": 1,
   "id": "62ab0a1e-8e16-4cca-b9fb-e8839dca69c0",
   "metadata": {
    "tags": []
   },
   "outputs": [
    {
     "name": "stdout",
     "output_type": "stream",
     "text": [
      "1. Print Phone Numbers\n",
      "2. Add a Phone Number\n",
      "3. Lookup a Phone Number\n",
      "4. Quit\n",
      "\n"
     ]
    },
    {
     "name": "stdin",
     "output_type": "stream",
     "text": [
      "Type in a number (1-4):  2\n"
     ]
    },
    {
     "name": "stdout",
     "output_type": "stream",
     "text": [
      "Add Name and Number\n"
     ]
    },
    {
     "name": "stdin",
     "output_type": "stream",
     "text": [
      "Name:  abc\n",
      "Number:  46546547\n",
      "Type in a number (1-4):  4\n"
     ]
    }
   ],
   "source": [
    "def print_menu():\n",
    "    print('1. Print Phone Numbers')\n",
    "    print('2. Add a Phone Number')\n",
    "    #print('3. Remove a Phone Number')\n",
    "    print('3. Lookup a Phone Number')\n",
    "    print('4. Quit')\n",
    "    print()\n",
    "\n",
    "numbers = {}\n",
    "menu_choice = 0\n",
    "print_menu()\n",
    "while menu_choice != 4:\n",
    "    menu_choice = int(input(\"Type in a number (1-4): \"))\n",
    "    if menu_choice == 1:\n",
    "        print(\"Telephone Numbers:\")\n",
    "        for x in numbers.keys():\n",
    "            print(\"Name: \", x, \"\\tNumber:\", numbers[x])\n",
    "        print()\n",
    "    elif menu_choice == 2:\n",
    "        print(\"Add Name and Number\")\n",
    "        name = input(\"Name: \")\n",
    "        phone = input(\"Number: \")\n",
    "        numbers[name] = phone\n",
    "    elif menu_choice == 3:\n",
    "        print(\"Lookup Number\")\n",
    "        name = input(\"Name: \")\n",
    "        if name in numbers:\n",
    "            print(\"The number is\", numbers[name])\n",
    "        else:\n",
    "            print(name, \"was not found\")\n",
    "    elif menu_choice != 4:\n",
    "        print_menu()"
   ]
  },
  {
   "cell_type": "code",
   "execution_count": null,
   "id": "8c7e5357-f158-4b14-ac6f-dcffed15959b",
   "metadata": {},
   "outputs": [],
   "source": [
    "abc = {name:rkr, usn:eerrr45}"
   ]
  }
 ],
 "metadata": {
  "kernelspec": {
   "display_name": "Python 3 (ipykernel)",
   "language": "python",
   "name": "python3"
  },
  "language_info": {
   "codemirror_mode": {
    "name": "ipython",
    "version": 3
   },
   "file_extension": ".py",
   "mimetype": "text/x-python",
   "name": "python",
   "nbconvert_exporter": "python",
   "pygments_lexer": "ipython3",
   "version": "3.8.18"
  }
 },
 "nbformat": 4,
 "nbformat_minor": 5
}
