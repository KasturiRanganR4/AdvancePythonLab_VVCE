{
 "cells": [
  {
   "cell_type": "code",
   "execution_count": 2,
   "id": "arabic-boxing",
   "metadata": {
    "tags": []
   },
   "outputs": [
    {
     "name": "stdout",
     "output_type": "stream",
     "text": [
      "Original array:\n",
      "[(b'rkr', 5, 58.5 ) (b'Ram', 6, 52.5 ) (b'Paul', 5, 42.1 )\n",
      " (b'sssghrkkdkdkdk', 7, 40.11)]\n",
      "Sort by height\n",
      "[(b'sssghrkkdkdkdk', 7, 40.11) (b'Paul', 5, 42.1 ) (b'Ram', 6, 52.5 )\n",
      " (b'rkr', 5, 58.5 )]\n"
     ]
    }
   ],
   "source": [
    "import numpy as np\n",
    "data_type = [('name', 'S20'), ('class', int), ('height', float)]\n",
    "students_details = [('rkr', 5, 58.5), ('Ram', 6, 52.5),('Paul', 5, 42.10), ('sssghrkkdkdkdk', 7, 40.11)]\n",
    "# create a structured array\n",
    "students = np.array(students_details, dtype=data_type)   \n",
    "print(\"Original array:\")\n",
    "print(students)\n",
    "print(\"Sort by height\")\n",
    "print(np.sort(students, order='height'))    \n"
   ]
  },
  {
   "cell_type": "code",
   "execution_count": null,
   "id": "bulgarian-reasoning",
   "metadata": {
    "tags": []
   },
   "outputs": [],
   "source": [
    "#pip install numpy"
   ]
  },
  {
   "cell_type": "code",
   "execution_count": null,
   "id": "vanilla-animal",
   "metadata": {},
   "outputs": [],
   "source": []
  }
 ],
 "metadata": {
  "kernelspec": {
   "display_name": "Python 3 (ipykernel)",
   "language": "python",
   "name": "python3"
  },
  "language_info": {
   "codemirror_mode": {
    "name": "ipython",
    "version": 3
   },
   "file_extension": ".py",
   "mimetype": "text/x-python",
   "name": "python",
   "nbconvert_exporter": "python",
   "pygments_lexer": "ipython3",
   "version": "3.8.18"
  }
 },
 "nbformat": 4,
 "nbformat_minor": 5
}
