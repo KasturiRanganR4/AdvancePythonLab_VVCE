{
 "cells": [
  {
   "cell_type": "code",
   "execution_count": 1,
   "id": "455bd26d-1ccd-4637-8fda-7a224f38dea2",
   "metadata": {
    "tags": []
   },
   "outputs": [
    {
     "name": "stdin",
     "output_type": "stream",
     "text": [
      "Enter string: jahgdjad ajhsdgjhasgdjhsda ajhsgdjhsadgjh\n"
     ]
    },
    {
     "name": "stdout",
     "output_type": "stream",
     "text": [
      "The original string is : jahgdjad ajhsdgjhasgdjhsda ajhsgdjhsadgjh\n",
      "The number of words in string are : 3\n"
     ]
    }
   ],
   "source": [
    "import re\n",
    "#using regular expressions\n",
    "test_string = input(\"Enter string:\")\n",
    "# original string\n",
    "print (\"The original string is : \" + test_string)\n",
    "# using regex (findall()) function\n",
    "#It returns a list of strings in the matching order when scanning the string from left to right.\n",
    "#:::::\\w+ matches one or more alphanumeric characters :::\n",
    "res = len(re.findall(r'\\w+', test_string))\n",
    "# total no of words\n",
    "print (\"The number of words in string are : \" + str(res))"
   ]
  },
  {
   "cell_type": "code",
   "execution_count": 2,
   "id": "50f08d3c-ac72-4271-85f7-eca6ba827536",
   "metadata": {},
   "outputs": [
    {
     "data": {
      "text/plain": [
       "str"
      ]
     },
     "execution_count": 2,
     "metadata": {},
     "output_type": "execute_result"
    }
   ],
   "source": [
    "type(test_string)"
   ]
  },
  {
   "cell_type": "code",
   "execution_count": 4,
   "id": "26cb01b7-423e-42aa-a60d-ac9d6c9fc503",
   "metadata": {
    "tags": []
   },
   "outputs": [
    {
     "name": "stdin",
     "output_type": "stream",
     "text": [
      "Enter string:  hgfhgf jhfgfjhf gffjhjh\n"
     ]
    },
    {
     "name": "stdout",
     "output_type": "stream",
     "text": [
      "The original string is: hgfhgf jhfgfjhf gffjhjh\n",
      "The number of words in string are:  3\n"
     ]
    }
   ],
   "source": [
    "import re\n",
    "def sentence(test_string):\n",
    "    res=len(re.findall(r'\\w+',test_string))\n",
    "    return res\n",
    "test_string=input(\"Enter string: \")\n",
    "print(\"The original string is: \" +test_string)\n",
    "print(\"The number of words in string are: \",sentence(test_string))"
   ]
  },
  {
   "cell_type": "code",
   "execution_count": null,
   "id": "f9c31d42-0988-4963-8f12-bed57878b105",
   "metadata": {},
   "outputs": [],
   "source": []
  }
 ],
 "metadata": {
  "kernelspec": {
   "display_name": "Python 3 (ipykernel)",
   "language": "python",
   "name": "python3"
  },
  "language_info": {
   "codemirror_mode": {
    "name": "ipython",
    "version": 3
   },
   "file_extension": ".py",
   "mimetype": "text/x-python",
   "name": "python",
   "nbconvert_exporter": "python",
   "pygments_lexer": "ipython3",
   "version": "3.8.18"
  }
 },
 "nbformat": 4,
 "nbformat_minor": 5
}
