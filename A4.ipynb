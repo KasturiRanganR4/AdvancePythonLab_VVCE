{
 "cells": [
  {
   "cell_type": "code",
   "execution_count": 1,
   "id": "7e21ee4b-e08c-4f71-b566-99bacba7627f",
   "metadata": {
    "tags": []
   },
   "outputs": [],
   "source": [
    "import pandas as pd\n",
    "df = pd.read_csv('churnCopy.csv')"
   ]
  },
  {
   "cell_type": "code",
   "execution_count": 2,
   "id": "8546d525-e220-488f-875a-87c33e52e427",
   "metadata": {
    "tags": []
   },
   "outputs": [],
   "source": [
    "#pip install --user pandas"
   ]
  },
  {
   "cell_type": "code",
   "execution_count": 3,
   "id": "230e2246-f60c-411f-9a6e-08bd354980b5",
   "metadata": {
    "tags": []
   },
   "outputs": [
    {
     "name": "stdout",
     "output_type": "stream",
     "text": [
      "     customerID tenure        Contract PaperlessBilling  \\\n",
      "0    8260-NGFNY    One  Month-to-month               No   \n",
      "1    2359-QWQUL     39        One year              Yes   \n",
      "2    6598/RFFVI      2        One year               No   \n",
      "3    IXSTS-8780      6  Month-to-month              Yes   \n",
      "4    2674/MIAHT   Four  Month-to-month              Yes   \n",
      "..          ...    ...             ...              ...   \n",
      "253  9067-SQTNS     44        One year               No   \n",
      "254  9067-SQTNS     44        One year               No   \n",
      "255  9067-SQTNS     44        One year               No   \n",
      "256  9067-SQTNS     44        One year               No   \n",
      "257  9067-SQTNS     44        One year               No   \n",
      "\n",
      "                 PaymentMethod  MonthlyCharges  TotalCharges  gender  \\\n",
      "0                 Mailed check            25.2         25.20  Female   \n",
      "1      Credit card (automatic)           104.7       4134.85  Female   \n",
      "2      Credit card (automatic)            19.3         28.30    Male   \n",
      "3             Electronic check            90.1        521.30  Female   \n",
      "4                 Mailed check            80.3        324.20  Female   \n",
      "..                         ...             ...           ...     ...   \n",
      "253  Bank transfer (automatic)            20.6        926.00    Male   \n",
      "254  Bank transfer (automatic)            20.6        926.00    Male   \n",
      "255  Bank transfer (automatic)            20.6        926.00    Male   \n",
      "256  Bank transfer (automatic)            20.6        926.00    Male   \n",
      "257  Bank transfer (automatic)            20.6        926.00    Male   \n",
      "\n",
      "     SeniorCitizen Partner  ... PhoneService     MultipleLines  \\\n",
      "0              0.0      No  ...           No  No phone service   \n",
      "1              0.0     Yes  ...          Yes                No   \n",
      "2              0.0      No  ...          Yes                No   \n",
      "3              0.0      No  ...          Yes               Yes   \n",
      "4              0.0      No  ...          Yes               Yes   \n",
      "..             ...     ...  ...          ...               ...   \n",
      "253            0.0     Yes  ...          Yes                No   \n",
      "254            0.0     Yes  ...          Yes                No   \n",
      "255            0.0     Yes  ...          Yes                No   \n",
      "256            0.0     Yes  ...          Yes                No   \n",
      "257            0.0     Yes  ...          Yes                No   \n",
      "\n",
      "    InternetService       OnlineSecurity         OnlineBackup  \\\n",
      "0               DSL                   No                   No   \n",
      "1       Fiber optic                  Yes                   No   \n",
      "2                No  No internet service  No internet service   \n",
      "3       Fiber optic                   No                  Yes   \n",
      "4       Fiber optic                   No                  Yes   \n",
      "..              ...                  ...                  ...   \n",
      "253              No                  Yes                  Yes   \n",
      "254              No                  Yes                  Yes   \n",
      "255              No                  Yes                  Yes   \n",
      "256              No                  Yes                  Yes   \n",
      "257              No                  Yes                  Yes   \n",
      "\n",
      "        DeviceProtection          TechSupport          StreamingTV  \\\n",
      "0                     No                   No                   No   \n",
      "1                    Yes                  Yes                  Yes   \n",
      "2    No internet service  No internet service  No internet service   \n",
      "3                     No                   No                  Yes   \n",
      "4                     No                   No                   No   \n",
      "..                   ...                  ...                  ...   \n",
      "253  No internet service  No internet service                  Yes   \n",
      "254  No internet service  No internet service                  Yes   \n",
      "255  No internet service  No internet service                  Yes   \n",
      "256  No internet service  No internet service                  Yes   \n",
      "257  No internet service  No internet service                  Yes   \n",
      "\n",
      "         StreamingMovies Churn  \n",
      "0                     No   Yes  \n",
      "1                    Yes   Yes  \n",
      "2    No internet service   Yes  \n",
      "3                     No   Yes  \n",
      "4                     No    No  \n",
      "..                   ...   ...  \n",
      "253  No internet service    No  \n",
      "254  No internet service    No  \n",
      "255  No internet service    No  \n",
      "256  No internet service    No  \n",
      "257  No internet service    No  \n",
      "\n",
      "[258 rows x 21 columns]\n"
     ]
    }
   ],
   "source": [
    "print(df)"
   ]
  },
  {
   "cell_type": "code",
   "execution_count": 4,
   "id": "0f210450-ae88-44e7-b0d8-db6f5facc1f7",
   "metadata": {
    "tags": []
   },
   "outputs": [
    {
     "data": {
      "text/plain": [
       "9"
      ]
     },
     "execution_count": 4,
     "metadata": {},
     "output_type": "execute_result"
    }
   ],
   "source": [
    "# 1. Duplicated rows in dataframe\n",
    "df.duplicated(keep=False).sum()  \n",
    "# By default, for each set of duplicated values, the first occurrence is set on False and all others on True. By using 'last', the last occurrence of each set of duplicated values is set on False and all others on True. By setting keep on False, all duplicates are True. "
   ]
  },
  {
   "cell_type": "code",
   "execution_count": 5,
   "id": "1ff034b3-8674-44d7-b434-6d97977b5827",
   "metadata": {},
   "outputs": [
    {
     "data": {
      "text/plain": [
       "9"
      ]
     },
     "execution_count": 5,
     "metadata": {},
     "output_type": "execute_result"
    }
   ],
   "source": [
    "#2. customerID duplicates\n",
    "df['customerID'].duplicated(keep=False).sum()"
   ]
  },
  {
   "cell_type": "code",
   "execution_count": 6,
   "id": "80fbeb23-df73-450c-92d2-11d6775f6d06",
   "metadata": {
    "tags": []
   },
   "outputs": [
    {
     "data": {
      "text/plain": [
       "customerID           0\n",
       "tenure               0\n",
       "Contract             0\n",
       "PaperlessBilling     0\n",
       "PaymentMethod        0\n",
       "MonthlyCharges      10\n",
       "TotalCharges        15\n",
       "gender               0\n",
       "SeniorCitizen        5\n",
       "Partner              0\n",
       "Dependents           0\n",
       "PhoneService         0\n",
       "MultipleLines        0\n",
       "InternetService      0\n",
       "OnlineSecurity       0\n",
       "OnlineBackup         0\n",
       "DeviceProtection     0\n",
       "TechSupport          0\n",
       "StreamingTV          0\n",
       "StreamingMovies      0\n",
       "Churn                0\n",
       "dtype: int64"
      ]
     },
     "execution_count": 6,
     "metadata": {},
     "output_type": "execute_result"
    }
   ],
   "source": [
    "#3 Count number of missing values in each columns \n",
    "df.isna().sum()"
   ]
  },
  {
   "cell_type": "code",
   "execution_count": 7,
   "id": "0616367f-4f07-410b-b3bb-5f2bb7f3f8ba",
   "metadata": {
    "tags": []
   },
   "outputs": [
    {
     "data": {
      "text/plain": [
       "15"
      ]
     },
     "execution_count": 7,
     "metadata": {},
     "output_type": "execute_result"
    }
   ],
   "source": [
    "#4 Count the total no. of missing values for the variable TotalCharges \n",
    "df['TotalCharges'].isna().sum()"
   ]
  },
  {
   "cell_type": "code",
   "execution_count": 8,
   "id": "8a7fb980-8238-4bab-91c2-51df234d8b77",
   "metadata": {
    "tags": []
   },
   "outputs": [
    {
     "data": {
      "text/plain": [
       "62.3046370967742"
      ]
     },
     "execution_count": 8,
     "metadata": {},
     "output_type": "execute_result"
    }
   ],
   "source": [
    "#5 Average monthly charge paid by a customer for the services he/she has signed up for \n",
    "df['MonthlyCharges'].mean()\n",
    "#df.loc[:,'MonthlyCharges'].mean()"
   ]
  },
  {
   "cell_type": "code",
   "execution_count": 9,
   "id": "b979b446-a180-44ab-999f-0d48e27a6444",
   "metadata": {},
   "outputs": [
    {
     "data": {
      "text/html": [
       "<div>\n",
       "<style scoped>\n",
       "    .dataframe tbody tr th:only-of-type {\n",
       "        vertical-align: middle;\n",
       "    }\n",
       "\n",
       "    .dataframe tbody tr th {\n",
       "        vertical-align: top;\n",
       "    }\n",
       "\n",
       "    .dataframe thead th {\n",
       "        text-align: right;\n",
       "    }\n",
       "</style>\n",
       "<table border=\"1\" class=\"dataframe\">\n",
       "  <thead>\n",
       "    <tr style=\"text-align: right;\">\n",
       "      <th></th>\n",
       "      <th>customerID</th>\n",
       "      <th>tenure</th>\n",
       "      <th>Contract</th>\n",
       "      <th>PaperlessBilling</th>\n",
       "      <th>PaymentMethod</th>\n",
       "      <th>MonthlyCharges</th>\n",
       "      <th>TotalCharges</th>\n",
       "      <th>gender</th>\n",
       "      <th>SeniorCitizen</th>\n",
       "      <th>Partner</th>\n",
       "      <th>...</th>\n",
       "      <th>PhoneService</th>\n",
       "      <th>MultipleLines</th>\n",
       "      <th>InternetService</th>\n",
       "      <th>OnlineSecurity</th>\n",
       "      <th>OnlineBackup</th>\n",
       "      <th>DeviceProtection</th>\n",
       "      <th>TechSupport</th>\n",
       "      <th>StreamingTV</th>\n",
       "      <th>StreamingMovies</th>\n",
       "      <th>Churn</th>\n",
       "    </tr>\n",
       "  </thead>\n",
       "  <tbody>\n",
       "    <tr>\n",
       "      <th>89</th>\n",
       "      <td>1754-GKYPY</td>\n",
       "      <td>22</td>\n",
       "      <td>Month-to-month</td>\n",
       "      <td>Yes</td>\n",
       "      <td>Bank transfer (automatic)</td>\n",
       "      <td>89.75</td>\n",
       "      <td>1938.90</td>\n",
       "      <td>Male</td>\n",
       "      <td>1.0</td>\n",
       "      <td>Yes</td>\n",
       "      <td>...</td>\n",
       "      <td>Yes</td>\n",
       "      <td>No</td>\n",
       "      <td>Fiber optic</td>\n",
       "      <td>No</td>\n",
       "      <td>No</td>\n",
       "      <td>No</td>\n",
       "      <td>No</td>\n",
       "      <td>Yes</td>\n",
       "      <td>Yes</td>\n",
       "      <td>No</td>\n",
       "    </tr>\n",
       "    <tr>\n",
       "      <th>125</th>\n",
       "      <td>9108-EQPNQ</td>\n",
       "      <td>10</td>\n",
       "      <td>Two year</td>\n",
       "      <td>No</td>\n",
       "      <td>Credit card (automatic)</td>\n",
       "      <td>26.10</td>\n",
       "      <td>225.55</td>\n",
       "      <td>Female</td>\n",
       "      <td>0.0</td>\n",
       "      <td>Yes</td>\n",
       "      <td>...</td>\n",
       "      <td>Yes</td>\n",
       "      <td>Yes</td>\n",
       "      <td>No</td>\n",
       "      <td>No internet service</td>\n",
       "      <td>No internet service</td>\n",
       "      <td>No internet service</td>\n",
       "      <td>No internet service</td>\n",
       "      <td>No internet service</td>\n",
       "      <td>No internet service</td>\n",
       "      <td>No</td>\n",
       "    </tr>\n",
       "    <tr>\n",
       "      <th>174</th>\n",
       "      <td>2640-PMGFL</td>\n",
       "      <td>27</td>\n",
       "      <td>Month-to-month</td>\n",
       "      <td>Yes</td>\n",
       "      <td>Electronic check</td>\n",
       "      <td>79.50</td>\n",
       "      <td>2180.55</td>\n",
       "      <td>Male</td>\n",
       "      <td>0.0</td>\n",
       "      <td>No</td>\n",
       "      <td>...</td>\n",
       "      <td>Yes</td>\n",
       "      <td>Yes</td>\n",
       "      <td>Fiber optic</td>\n",
       "      <td>No</td>\n",
       "      <td>No</td>\n",
       "      <td>No</td>\n",
       "      <td>Yes</td>\n",
       "      <td>No</td>\n",
       "      <td>No</td>\n",
       "      <td>Yes</td>\n",
       "    </tr>\n",
       "    <tr>\n",
       "      <th>220</th>\n",
       "      <td>8854-CCVSQ</td>\n",
       "      <td>18</td>\n",
       "      <td>Month-to-month</td>\n",
       "      <td>Yes</td>\n",
       "      <td>Electronic check</td>\n",
       "      <td>80.65</td>\n",
       "      <td>1451.90</td>\n",
       "      <td>Male</td>\n",
       "      <td>0.0</td>\n",
       "      <td>No</td>\n",
       "      <td>...</td>\n",
       "      <td>Yes</td>\n",
       "      <td>Yes</td>\n",
       "      <td>Fiber optic</td>\n",
       "      <td>No</td>\n",
       "      <td>Yes</td>\n",
       "      <td>No</td>\n",
       "      <td>No</td>\n",
       "      <td>No</td>\n",
       "      <td>No</td>\n",
       "      <td>Yes</td>\n",
       "    </tr>\n",
       "    <tr>\n",
       "      <th>234</th>\n",
       "      <td>6876-ADESB</td>\n",
       "      <td>One</td>\n",
       "      <td>Month-to-month</td>\n",
       "      <td>No</td>\n",
       "      <td>Electronic check</td>\n",
       "      <td>48.95</td>\n",
       "      <td>48.95</td>\n",
       "      <td>Male</td>\n",
       "      <td>0.0</td>\n",
       "      <td>No</td>\n",
       "      <td>...</td>\n",
       "      <td>Yes</td>\n",
       "      <td>No</td>\n",
       "      <td>DSL</td>\n",
       "      <td>No</td>\n",
       "      <td>No</td>\n",
       "      <td>Yes</td>\n",
       "      <td>No</td>\n",
       "      <td>No</td>\n",
       "      <td>No</td>\n",
       "      <td>Yes</td>\n",
       "    </tr>\n",
       "    <tr>\n",
       "      <th>238</th>\n",
       "      <td>1972-XMUWV</td>\n",
       "      <td>65</td>\n",
       "      <td>Two year</td>\n",
       "      <td>Yes</td>\n",
       "      <td>Credit card (automatic)</td>\n",
       "      <td>59.80</td>\n",
       "      <td>3808.20</td>\n",
       "      <td>Female</td>\n",
       "      <td>0.0</td>\n",
       "      <td>Yes</td>\n",
       "      <td>...</td>\n",
       "      <td>Yes</td>\n",
       "      <td>No</td>\n",
       "      <td>DSL</td>\n",
       "      <td>No</td>\n",
       "      <td>No</td>\n",
       "      <td>No</td>\n",
       "      <td>Yes</td>\n",
       "      <td>Yes</td>\n",
       "      <td>No</td>\n",
       "      <td>No</td>\n",
       "    </tr>\n",
       "  </tbody>\n",
       "</table>\n",
       "<p>6 rows × 21 columns</p>\n",
       "</div>"
      ],
      "text/plain": [
       "     customerID tenure        Contract PaperlessBilling  \\\n",
       "89   1754-GKYPY     22  Month-to-month              Yes   \n",
       "125  9108-EQPNQ     10        Two year               No   \n",
       "174  2640-PMGFL     27  Month-to-month              Yes   \n",
       "220  8854-CCVSQ     18  Month-to-month              Yes   \n",
       "234  6876-ADESB    One  Month-to-month               No   \n",
       "238  1972-XMUWV     65        Two year              Yes   \n",
       "\n",
       "                 PaymentMethod  MonthlyCharges  TotalCharges  gender  \\\n",
       "89   Bank transfer (automatic)           89.75       1938.90    Male   \n",
       "125    Credit card (automatic)           26.10        225.55  Female   \n",
       "174           Electronic check           79.50       2180.55    Male   \n",
       "220           Electronic check           80.65       1451.90    Male   \n",
       "234           Electronic check           48.95         48.95    Male   \n",
       "238    Credit card (automatic)           59.80       3808.20  Female   \n",
       "\n",
       "     SeniorCitizen Partner  ... PhoneService MultipleLines InternetService  \\\n",
       "89             1.0     Yes  ...          Yes            No     Fiber optic   \n",
       "125            0.0     Yes  ...          Yes           Yes              No   \n",
       "174            0.0      No  ...          Yes           Yes     Fiber optic   \n",
       "220            0.0      No  ...          Yes           Yes     Fiber optic   \n",
       "234            0.0      No  ...          Yes            No             DSL   \n",
       "238            0.0     Yes  ...          Yes            No             DSL   \n",
       "\n",
       "          OnlineSecurity         OnlineBackup     DeviceProtection  \\\n",
       "89                    No                   No                   No   \n",
       "125  No internet service  No internet service  No internet service   \n",
       "174                   No                   No                   No   \n",
       "220                   No                  Yes                   No   \n",
       "234                   No                   No                  Yes   \n",
       "238                   No                   No                   No   \n",
       "\n",
       "             TechSupport          StreamingTV      StreamingMovies Churn  \n",
       "89                    No                  Yes                  Yes    No  \n",
       "125  No internet service  No internet service  No internet service    No  \n",
       "174                  Yes                   No                   No   Yes  \n",
       "220                   No                   No                   No   Yes  \n",
       "234                   No                   No                   No   Yes  \n",
       "238                  Yes                  Yes                   No    No  \n",
       "\n",
       "[6 rows x 21 columns]"
      ]
     },
     "execution_count": 9,
     "metadata": {},
     "output_type": "execute_result"
    }
   ],
   "source": [
    "#6 Display the records having “1@#” under the variable Dependents\n",
    "#df['Dependents'].str.contains('1@#').sum()\n",
    "#df['Dependents'].str.contains('1@#').any()\n",
    "df[df['Dependents'].str.contains('1@#')]\n"
   ]
  },
  {
   "cell_type": "code",
   "execution_count": 11,
   "id": "7f693b9d-ff22-423d-9ebc-6ded56a0e043",
   "metadata": {},
   "outputs": [
    {
     "name": "stdout",
     "output_type": "stream",
     "text": [
      "0       25.2\n",
      "1      104.7\n",
      "2       19.3\n",
      "3       90.1\n",
      "4       80.3\n",
      "       ...  \n",
      "253     20.6\n",
      "254     20.6\n",
      "255     20.6\n",
      "256     20.6\n",
      "257     20.6\n",
      "Name: MonthlyCharges, Length: 258, dtype: float64\n"
     ]
    }
   ],
   "source": [
    "#7 Replace null values in churn dataframe by median value or by max count class category\n",
    "srs = df.agg({'MonthlyCharges':'mean'})\n",
    "#print(srs)\n",
    "df['MonthlyCharges'] = df['MonthlyCharges'].fillna(value=srs)\n",
    "print(df['MonthlyCharges'])"
   ]
  },
  {
   "cell_type": "code",
   "execution_count": null,
   "id": "0e86382d-d5ac-47b0-9c25-ad86a41dd456",
   "metadata": {
    "tags": []
   },
   "outputs": [],
   "source": [
    "'''import numpy as np\n",
    "dft = pd.DataFrame({'user':['1','1','1','1','1','1', '2', '2', '2', '2', '2'], \n",
    "                   'ffq':[1, 3, 2, np.nan, 3, np.nan, 3, np.nan, 2, np.nan, 3],\n",
    "                   'food-category':['fruit', 'fruit', 'vegetables', 'vegetables', \n",
    "                                    'vegetables', 'fruit', 'fruit', 'fruit', 'vegetables', \n",
    "                                    'vegetables', 'fruit']})'''"
   ]
  },
  {
   "cell_type": "code",
   "execution_count": null,
   "id": "7c423300-4c26-4b8b-b67a-25b76c851286",
   "metadata": {
    "tags": []
   },
   "outputs": [],
   "source": [
    "'''srs = dft.agg({'ffq':'mean'})\n",
    "print(srs)\n",
    "#df[df['MonthlyCharges'].isnull()]\n",
    "#print(srs)\n",
    "dft['ffq'] = dft['ffq'].fillna(value=srs)'''"
   ]
  },
  {
   "cell_type": "code",
   "execution_count": null,
   "id": "74ced0b7-02b3-4b4c-9003-a495e2efcc97",
   "metadata": {
    "tags": []
   },
   "outputs": [],
   "source": [
    "#print(dft['ffq'])"
   ]
  },
  {
   "cell_type": "code",
   "execution_count": null,
   "id": "2b648a98-b654-449e-9b6e-04ea2ded8e40",
   "metadata": {
    "tags": []
   },
   "outputs": [],
   "source": [
    "df.columns"
   ]
  },
  {
   "cell_type": "code",
   "execution_count": null,
   "id": "1a0d6924-19dc-4e78-8b64-e0770629c967",
   "metadata": {},
   "outputs": [],
   "source": []
  }
 ],
 "metadata": {
  "kernelspec": {
   "display_name": "Python 3 (ipykernel)",
   "language": "python",
   "name": "python3"
  },
  "language_info": {
   "codemirror_mode": {
    "name": "ipython",
    "version": 3
   },
   "file_extension": ".py",
   "mimetype": "text/x-python",
   "name": "python",
   "nbconvert_exporter": "python",
   "pygments_lexer": "ipython3",
   "version": "3.8.18"
  }
 },
 "nbformat": 4,
 "nbformat_minor": 5
}
