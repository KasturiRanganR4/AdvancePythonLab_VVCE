{
 "cells": [
  {
   "cell_type": "code",
   "execution_count": 2,
   "id": "e341fbd8-e54a-4382-92eb-1c097b9a9ac9",
   "metadata": {
    "tags": []
   },
   "outputs": [
    {
     "name": "stdout",
     "output_type": "stream",
     "text": [
      "Good Morning\n",
      "\n",
      "Consisting of Specific\n",
      "\n",
      "Summary and Explanation\n",
      "\n",
      "Learn with a joy\n"
     ]
    }
   ],
   "source": [
    "# input text file\n",
    "inputFile = \"Exampletextfile.txt\"\n",
    "# Opening the given file in read-only mode.\n",
    "readFile = open(inputFile, \"r\")\n",
    "\n",
    "# output text file path\n",
    "outputFile = \"PrintOddLines.txt\"\n",
    "# Opening the output file in write mode.\n",
    "writeFile = open(outputFile, \"w\")\n",
    "\n",
    "# Read the above read file lines using readlines()\n",
    "ReadFileLines = readFile.readlines()\n",
    "# Traverse in each line of the read text file\n",
    "for excelLineIndex in range(0, len(ReadFileLines)):\n",
    "\n",
    "   # Checking whether the line number i.e excelLineIndex is even or odd\n",
    "   # Here modulus 2 i.e %2 gives 1 for odd number and 0 for even number\n",
    "   if(excelLineIndex % 2 == 0):\n",
    "      # If the index is odd, then x`write the read file line into the\n",
    "      # output file\n",
    "      writeFile.write(ReadFileLines[excelLineIndex])\n",
    "      # printing the odd line\n",
    "      print(ReadFileLines[excelLineIndex])\n",
    "\n",
    "# Closing the write file\n",
    "writeFile.close()\n",
    "\n",
    "# Closing the read file\n",
    "readFile.close()"
   ]
  },
  {
   "cell_type": "code",
   "execution_count": null,
   "id": "3163e925-21be-4a89-91a7-726cfdf05a22",
   "metadata": {},
   "outputs": [],
   "source": []
  }
 ],
 "metadata": {
  "kernelspec": {
   "display_name": "Python 3 (ipykernel)",
   "language": "python",
   "name": "python3"
  },
  "language_info": {
   "codemirror_mode": {
    "name": "ipython",
    "version": 3
   },
   "file_extension": ".py",
   "mimetype": "text/x-python",
   "name": "python",
   "nbconvert_exporter": "python",
   "pygments_lexer": "ipython3",
   "version": "3.8.18"
  }
 },
 "nbformat": 4,
 "nbformat_minor": 5
}
