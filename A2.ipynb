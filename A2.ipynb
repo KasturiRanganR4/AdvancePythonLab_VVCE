{
 "cells": [
  {
   "cell_type": "raw",
   "id": "abc31692-13f1-4301-8d9b-87d80b274ec8",
   "metadata": {},
   "source": [
    "Symbol\tUsage\n",
    "$\tMatches the end of the line\n",
    "\\s\tMatches whitespace\n",
    "\\S\tMatches any non-whitespace character\n",
    "*\tRepeats a character zero or more times\n",
    "*?\tRepeats a character zero or more times (non-greedy)\n",
    "+\tRepeats a character one or more times\n",
    "+?\tRepeats a character one or more times (non-greedy)\n",
    "[aeiou]\tMatches a single character in the listed set\n",
    "[^XYZ]\tMatches a single character not in the listed set\n",
    "[a-z0-9]\tThe set of characters can include a range\n",
    "(\tIndicates where string extraction is to start\n",
    ")\tIndicates where string extraction is to end"
   ]
  },
  {
   "cell_type": "code",
   "execution_count": 2,
   "id": "a2467cf7-6a19-4140-97f8-08deb27af73d",
   "metadata": {
    "tags": []
   },
   "outputs": [
    {
     "name": "stdout",
     "output_type": "stream",
     "text": [
      "['abc199630@gmail.com', 'xyz456@yahoo.com']\n"
     ]
    }
   ],
   "source": [
    "# Python program to extract emails From the String By Regular Expression.  \n",
    "# Importing module required for regular expressions  \n",
    "import re  \n",
    "  \n",
    "# Example string  \n",
    "s = \"\"\"Hello from abc199630@gmail.com to xyz456@yahoo.com about the meeting @2PM\"\"\"\n",
    "  \n",
    "# \\S matches any non-whitespace character  \n",
    "# @ for as in the Email  \n",
    "# + for Repeats a character one or more times  \n",
    "lst = re.findall('\\S+@\\S+', s)      \n",
    "  \n",
    "# Printing of List  \n",
    "print(lst)  "
   ]
  },
  {
   "cell_type": "code",
   "execution_count": 7,
   "id": "e75a320b-2e2c-4da7-b0cd-3100abd2dcfc",
   "metadata": {
    "tags": []
   },
   "outputs": [
    {
     "name": "stdout",
     "output_type": "stream",
     "text": [
      "Valid Password\n"
     ]
    }
   ],
   "source": [
    "# Python program to check validation of password\n",
    "# Module of regular expression is used with search()\n",
    "password = \"Kr@m@_0rvtu9e$\"\n",
    "flag = 0\n",
    "while True:\n",
    "    if (len(password)<6 or len(password)>16):\n",
    "        flag = -1\n",
    "        break\n",
    "    elif not re.search(\"[a-z]\", password):\n",
    "        flag = -1\n",
    "        break\n",
    "    elif not re.search(\"[A-Z]\", password):\n",
    "        flag = -1\n",
    "        break\n",
    "    elif not re.search(\"[0-9]\", password):\n",
    "        flag = -1\n",
    "        break\n",
    "    elif not re.search(\"[_@$#]\" , password):\n",
    "        flag = -1\n",
    "        break\n",
    "    elif re.search(\"\\s\" , password):\n",
    "        flag = -1\n",
    "        break\n",
    "    else:\n",
    "        flag = 0\n",
    "        print(\"Valid Password\")\n",
    "        break\n",
    " \n",
    "if flag == -1:\n",
    "    print(\"Not a Valid Password \")"
   ]
  },
  {
   "cell_type": "code",
   "execution_count": null,
   "id": "53ec03fc-94dc-48b9-95f6-d969aca7d0b3",
   "metadata": {},
   "outputs": [],
   "source": []
  }
 ],
 "metadata": {
  "kernelspec": {
   "display_name": "Python 3 (ipykernel)",
   "language": "python",
   "name": "python3"
  },
  "language_info": {
   "codemirror_mode": {
    "name": "ipython",
    "version": 3
   },
   "file_extension": ".py",
   "mimetype": "text/x-python",
   "name": "python",
   "nbconvert_exporter": "python",
   "pygments_lexer": "ipython3",
   "version": "3.8.18"
  }
 },
 "nbformat": 4,
 "nbformat_minor": 5
}
